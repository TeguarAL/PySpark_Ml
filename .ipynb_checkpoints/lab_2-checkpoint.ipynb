{
 "cells": [
  {
   "cell_type": "markdown",
   "metadata": {
    "collapsed": true,
    "pycharm": {
     "name": "#%% md\n"
    }
   },
   "source": [
    "# Лабораторная работа №2\n",
    "## \"PySpark ML\"\n",
    "### вариант 2\n",
    "### Лукин А.В."
   ]
  },
  {
   "cell_type": "markdown",
   "metadata": {},
   "source": [
    "#### Цель работы: Напишите программу на PySpark согласно вашему варианту для датасета “DS_2019_public.csv”.\n",
    "В отчёте обязательно должно быть описание выбранных признаков, предсказываемых признаков/категорий, почему вы сделали такой выбор и выведена точность работыполученной модели. Если точность модели получилась невысокой, внесите изменения в выбор признаков, чтобы повысить точность, и отобразите это в отчёте."
   ]
  },
  {
   "cell_type": "markdown",
   "metadata": {},
   "source": [
    "### Задание: Напишите программу, реализующую модель логистической регрессии. Выберите несколько количественных признаков (не менее 5). Предсказывайте одну из категорий Climate_Region_Pub – установите одну из категорий согласно вашему варианту задания на 1, а все остальные – на 0.\n"
   ]
  },
  {
   "cell_type": "code",
   "execution_count": 3,
   "metadata": {
    "pycharm": {
     "name": "#%%\n"
    }
   },
   "outputs": [
    {
     "data": {
      "text/html": [
       "\n",
       "            <div>\n",
       "                <p><b>SparkSession - in-memory</b></p>\n",
       "                \n",
       "        <div>\n",
       "            <p><b>SparkContext</b></p>\n",
       "\n",
       "            <p><a href=\"http://109.123.185.178:4041\">Spark UI</a></p>\n",
       "\n",
       "            <dl>\n",
       "              <dt>Version</dt>\n",
       "                <dd><code>v3.1.2</code></dd>\n",
       "              <dt>Master</dt>\n",
       "                <dd><code>local[*]</code></dd>\n",
       "              <dt>AppName</dt>\n",
       "                <dd><code>pyspark-shell</code></dd>\n",
       "            </dl>\n",
       "        </div>\n",
       "        \n",
       "            </div>\n",
       "        "
      ],
      "text/plain": [
       "<pyspark.sql.session.SparkSession at 0x2aa6009f8e0>"
      ]
     },
     "execution_count": 3,
     "metadata": {},
     "output_type": "execute_result"
    }
   ],
   "source": [
    "from pyspark.sql import SparkSession\n",
    "spark = SparkSession.builder.master(\"local[*]\").getOrCreate()\n",
    "spark.conf.set(\"spark.sql.repl.eagerEval.enabled\", True)\n",
    "spark"
   ]
  },
  {
   "cell_type": "code",
   "execution_count": 4,
   "metadata": {
    "pycharm": {
     "name": "#%%\n"
    }
   },
   "outputs": [],
   "source": [
    "from pyspark.ml.classification import LogisticRegression"
   ]
  },
  {
   "cell_type": "markdown",
   "metadata": {
    "pycharm": {
     "name": "#%% md\n"
    }
   },
   "source": []
  },
  {
   "cell_type": "markdown",
   "metadata": {
    "pycharm": {
     "name": "#%% md\n"
    }
   },
   "source": [
    "Прочитаем документ: DS_2019_public.csv.\n",
    "* header - заголовок\n",
    "* inferSchema - параметр, для определения типа данных в столбцах (str, int, double)"
   ]
  },
  {
   "cell_type": "code",
   "execution_count": 5,
   "metadata": {
    "pycharm": {
     "name": "#%%\n"
    }
   },
   "outputs": [
    {
     "data": {
      "text/html": [
       "<table border='1'>\n",
       "<tr><th>Climate_Region_Pub</th><th>DIVISION</th><th>REPORTABLE_DOMAIN</th><th>DOLELCOL</th><th>TOTALDOLCOL</th><th>KWHCOL</th><th>BTUELCOL</th><th>TOTALBTUCOL</th><th>TOTALDOLSPH</th><th>TOTALBTUSPH</th><th>CELLAR</th><th>NWEIGHT</th><th>TOTHSQFT</th><th>HEATHOME</th><th>NUMPC</th><th>DOLLAREL</th><th>DOLELOTH</th><th>CUFEETNGSPH</th><th>BTUNGSPH</th><th>DOLNGSPH</th><th>TEMPHOME</th><th>TOTCSQFT</th><th>BTUFOSPH</th><th>AIRCOND</th><th>ELCOOL</th><th>GALLONFOSPH</th><th>WALLTYPE</th><th>TOTALDOLOTH</th><th>BTUFO</th><th>GALLONFO</th><th>DOLFOSPH</th><th>DOLLARFO</th><th>KWHSPH</th><th>BTUELSPH</th><th>FOWARM</th><th>USEFO</th><th>TOTUSQFT</th><th>TOTALDOL</th><th>NUMTHERM</th><th>DOLELSPH</th><th>CONCRETE</th><th>CUFEETNG</th><th>BTUNG</th><th>GALLONFOOTH</th><th>BTUFOOTH</th><th>BEDROOMS</th><th>FOWATER</th><th>GALLONFOWTH</th><th>BTUFOWTH</th><th>DOLFOWTH</th><th>GALLONKEROTH</th><th>BTUKEROTH</th><th>DOLKEROTH</th><th>TOTUCSQFT</th><th>TOTSQFT</th><th>TOTSQFT_EN</th><th>DOLNGWTH</th><th>DOLFOOTH</th><th>ELOTHER</th><th>DOLLARNG</th><th>FUELHEAT</th><th>NOTMOIST</th><th>GALLONKER</th><th>BTUKER</th><th>NUMCFAN</th><th>FOILAUX</th><th>TOTALBTU</th><th>COOLTYPE</th><th>DOOR1SUM</th><th>DOLLARKER</th><th>DOLLPOTH</th><th>DOLELWTH</th><th>KWHWTH</th><th>BTUELWTH</th><th>TOTROOMS</th><th>ELWATER</th><th>GALLONKERSPH</th><th>BTUKERSPH</th><th>TOTALBTUOTH</th><th>GALLONLPSPH</th><th>BTULPSPH</th><th>NCOMBATH</th><th>OVEN</th><th>EQUIPM</th><th>STORIES</th><th>GALLONLP</th><th>BTULP</th><th>LGT1</th><th>SOLWARM</th><th>FUELH2O</th><th>GALLONLPOTH</th><th>BTULPOTH</th><th>TVCOLOR</th><th>SOLARAUX</th><th>CUFEETNGOTH</th><th>BTUNGOTH</th><th>KWHOTH</th><th>DOLKERSPH</th><th>TOTALDOLWTH</th><th>DOLLPSPH</th><th>USENG</th><th>YEARMADE</th><th>BTUELOTH</th><th>KWH</th><th>BTUEL</th><th>DOLLARLP</th><th>CUFEETNGWTH</th><th>BTUNGWTH</th><th>UGWATER</th><th>SDESCENT</th><th>TEMPGONE</th><th>LGT1EE</th><th>TOTALBTUWTH</th><th>ROOFTYPE</th><th>DOLELRFG</th><th>TOTALDOLRFG</th><th>HEATROOM</th><th>WDWATER</th><th>UGWARM</th><th>DRYRFUEL</th><th>KWHRFG</th></tr>\n",
       "<tr><td>5</td><td>10</td><td>26</td><td>16.793</td><td>17</td><td>181.998</td><td>620.979</td><td>621</td><td>368</td><td>38606</td><td>0</td><td>8599.17201</td><td>2736</td><td>1</td><td>2</td><td>475</td><td>337.315</td><td>376.643</td><td>38605.955</td><td>367.654</td><td>70</td><td>2736</td><td>0.0</td><td>1</td><td>1</td><td>0.0</td><td>2</td><td>501</td><td>0</td><td>0</td><td>0</td><td>0</td><td>0.0</td><td>0.0</td><td>0</td><td>0</td><td>400</td><td>1293</td><td>1</td><td>0</td><td>0</td><td>838</td><td>85895</td><td>0.0</td><td>0.0</td><td>3</td><td>0</td><td>0.0</td><td>0.0</td><td>0.0</td><td>0</td><td>0.0</td><td>0.0</td><td>400</td><td>3136</td><td>2736</td><td>286.745</td><td>0.0</td><td>1</td><td>818</td><td>1</td><td>0</td><td>0</td><td>0</td><td>0</td><td>0</td><td>103460</td><td>1</td><td>0</td><td>0</td><td>0.0</td><td>0.0</td><td>0.0</td><td>0.0</td><td>4</td><td>0</td><td>0</td><td>0.0</td><td>29653</td><td>0.0</td><td>0.0</td><td>2</td><td>0</td><td>3</td><td>31</td><td>0</td><td>0</td><td>0</td><td>0</td><td>1</td><td>0.0</td><td>0.0</td><td>2</td><td>0</td><td>167.601</td><td>17179.073</td><td>3655.782</td><td>0.0</td><td>287</td><td>0.0</td><td>1</td><td>1998</td><td>12473.544</td><td>5148</td><td>17565</td><td>0</td><td>293.756</td><td>30109.973</td><td>1</td><td>0</td><td>70</td><td>-2</td><td>30110</td><td>2</td><td>120.893</td><td>121</td><td>4</td><td>0</td><td>1</td><td>1</td><td>1310.22</td></tr>\n",
       "<tr><td>1</td><td>1</td><td>1</td><td>48.901</td><td>49</td><td>184.459</td><td>629.389</td><td>629</td><td>582</td><td>40248</td><td>-2</td><td>8969.915921</td><td>528</td><td>1</td><td>1</td><td>588</td><td>296.353</td><td>392.662</td><td>40248.226</td><td>581.517</td><td>68</td><td>264</td><td>0.0</td><td>1</td><td>1</td><td>0.0</td><td>1</td><td>339</td><td>0</td><td>0</td><td>0</td><td>0</td><td>0.0</td><td>0.0</td><td>0</td><td>0</td><td>0</td><td>1327</td><td>1</td><td>0</td><td>-2</td><td>499</td><td>51148</td><td>0.0</td><td>0.0</td><td>1</td><td>0</td><td>0.0</td><td>0.0</td><td>0.0</td><td>0</td><td>0.0</td><td>0.0</td><td>264</td><td>528</td><td>528</td><td>114.618</td><td>0.0</td><td>1</td><td>739</td><td>1</td><td>0</td><td>0</td><td>0</td><td>1</td><td>0</td><td>58716</td><td>2</td><td>0</td><td>0</td><td>0.0</td><td>0.0</td><td>0.0</td><td>0.0</td><td>2</td><td>0</td><td>0</td><td>0.0</td><td>6781</td><td>0.0</td><td>0.0</td><td>1</td><td>0</td><td>2</td><td>-2</td><td>0</td><td>0</td><td>2</td><td>0</td><td>1</td><td>0.0</td><td>0.0</td><td>1</td><td>0</td><td>28.944</td><td>2966.796</td><td>1117.878</td><td>0.0</td><td>115</td><td>0.0</td><td>1</td><td>1965</td><td>3814.291</td><td>2218</td><td>7568</td><td>0</td><td>77.394</td><td>7932.978</td><td>1</td><td>0</td><td>60</td><td>2</td><td>7933</td><td>-2</td><td>242.746</td><td>243</td><td>2</td><td>0</td><td>1</td><td>-2</td><td>915.664</td></tr>\n",
       "<tr><td>1</td><td>3</td><td>7</td><td>101.048</td><td>101</td><td>1063.022</td><td>3627.013</td><td>3627</td><td>425</td><td>40196</td><td>0</td><td>18003.6396</td><td>1623</td><td>1</td><td>2</td><td>952</td><td>512.731</td><td>392.152</td><td>40195.58</td><td>424.514</td><td>55</td><td>1623</td><td>0.0</td><td>1</td><td>1</td><td>0.0</td><td>6</td><td>534</td><td>0</td><td>0</td><td>0</td><td>0</td><td>0.0</td><td>0.0</td><td>0</td><td>0</td><td>400</td><td>1398</td><td>1</td><td>0</td><td>0</td><td>412</td><td>42230</td><td>0.0</td><td>0.0</td><td>3</td><td>0</td><td>0.0</td><td>0.0</td><td>0.0</td><td>0</td><td>0.0</td><td>0.0</td><td>400</td><td>2023</td><td>1623</td><td>0</td><td>0.0</td><td>1</td><td>446</td><td>1</td><td>0</td><td>0</td><td>0</td><td>1</td><td>0</td><td>76401</td><td>1</td><td>2</td><td>0</td><td>0.0</td><td>179.424</td><td>1887.531</td><td>6440.221</td><td>7</td><td>1</td><td>0</td><td>0.0</td><td>20438</td><td>0.0</td><td>0.0</td><td>2</td><td>1</td><td>3</td><td>10</td><td>0</td><td>0</td><td>0</td><td>0</td><td>5</td><td>0.0</td><td>0.0</td><td>5</td><td>0</td><td>19.848</td><td>2034.42</td><td>5393.913</td><td>0.0</td><td>179</td><td>0.0</td><td>1</td><td>1985</td><td>18403.933</td><td>10015</td><td>34171</td><td>0</td><td>0</td><td>0.0</td><td>0</td><td>0</td><td>55</td><td>-2</td><td>6440</td><td>5</td><td>158.797</td><td>159</td><td>7</td><td>0</td><td>1</td><td>5</td><td>1670.534</td></tr>\n",
       "<tr><td>1</td><td>1</td><td>1</td><td>0</td><td>0</td><td>0.0</td><td>0.0</td><td>0</td><td>616</td><td>36136</td><td>1</td><td>5999.605242</td><td>1274</td><td>1</td><td>2</td><td>705</td><td>619.862</td><td>352.549</td><td>36136.283</td><td>616.238</td><td>70</td><td>0</td><td>0.0</td><td>0</td><td>0</td><td>0.0</td><td>2</td><td>620</td><td>0</td><td>0</td><td>0</td><td>0</td><td>0.0</td><td>0.0</td><td>0</td><td>0</td><td>637</td><td>1558</td><td>1</td><td>0</td><td>0</td><td>488</td><td>50020</td><td>0.0</td><td>0.0</td><td>2</td><td>0</td><td>0.0</td><td>0.0</td><td>0.0</td><td>0</td><td>0.0</td><td>0.0</td><td>1912</td><td>1912</td><td>1912</td><td>236.762</td><td>0.0</td><td>1</td><td>853</td><td>1</td><td>0</td><td>0</td><td>0</td><td>0</td><td>0</td><td>59809</td><td>-2</td><td>1</td><td>0</td><td>0.0</td><td>0.0</td><td>0.0</td><td>0.0</td><td>5</td><td>0</td><td>0</td><td>0.0</td><td>8607</td><td>0.0</td><td>0.0</td><td>1</td><td>0</td><td>3</td><td>20</td><td>0</td><td>0</td><td>2</td><td>0</td><td>1</td><td>0.0</td><td>0.0</td><td>2</td><td>0</td><td>0</td><td>0.0</td><td>2522.532</td><td>0.0</td><td>237</td><td>0.0</td><td>1</td><td>1983</td><td>8606.856</td><td>2869</td><td>9789</td><td>0</td><td>135.451</td><td>13883.717</td><td>1</td><td>0</td><td>70</td><td>2</td><td>13884</td><td>5</td><td>85.138</td><td>85</td><td>5</td><td>0</td><td>1</td><td>5</td><td>346.468</td></tr>\n",
       "<tr><td>1</td><td>4</td><td>10</td><td>45.132</td><td>45</td><td>274.53</td><td>936.677</td><td>937</td><td>685</td><td>74100</td><td>1</td><td>4232.486778</td><td>3485</td><td>1</td><td>2</td><td>1050</td><td>853.549</td><td>722.927</td><td>74100.451</td><td>685.3</td><td>66</td><td>1538</td><td>0.0</td><td>1</td><td>1</td><td>0.0</td><td>4</td><td>893</td><td>0</td><td>0</td><td>0</td><td>0</td><td>0.0</td><td>0.0</td><td>0</td><td>0</td><td>0</td><td>1906</td><td>1</td><td>0</td><td>0</td><td>903</td><td>92558</td><td>0.0</td><td>0.0</td><td>3</td><td>0</td><td>0.0</td><td>0.0</td><td>0.0</td><td>0</td><td>0.0</td><td>0.0</td><td>1946</td><td>3485</td><td>3485</td><td>131.362</td><td>0.0</td><td>1</td><td>856</td><td>1</td><td>0</td><td>0</td><td>0</td><td>1</td><td>0</td><td>114350</td><td>1</td><td>0</td><td>0</td><td>0.0</td><td>0.0</td><td>0.0</td><td>0.0</td><td>6</td><td>0</td><td>0</td><td>0.0</td><td>21968</td><td>0.0</td><td>0.0</td><td>1</td><td>0</td><td>3</td><td>20</td><td>0</td><td>0</td><td>3</td><td>0</td><td>1</td><td>0.0</td><td>0.0</td><td>1</td><td>0</td><td>41.498</td><td>4253.615</td><td>5192.016</td><td>0.0</td><td>131</td><td>0.0</td><td>1</td><td>1920</td><td>17714.799</td><td>6387</td><td>21792</td><td>0</td><td>138.574</td><td>14203.934</td><td>1</td><td>0</td><td>66</td><td>3</td><td>14204</td><td>6</td><td>151.319</td><td>151</td><td>6</td><td>0</td><td>1</td><td>5</td><td>920.454</td></tr>\n",
       "<tr><td>4</td><td>2</td><td>3</td><td>253.21</td><td>253</td><td>1224.714</td><td>4178.697</td><td>4179</td><td>1251</td><td>70109</td><td>1</td><td>7862.341967</td><td>2296</td><td>1</td><td>2</td><td>2444</td><td>1762.032</td><td>668.382</td><td>68509.444</td><td>1154.308</td><td>67</td><td>1938</td><td>0.0</td><td>1</td><td>1</td><td>0.0</td><td>3</td><td>2077</td><td>0</td><td>0</td><td>0</td><td>0</td><td>468.774</td><td>1599.447</td><td>0</td><td>0</td><td>358</td><td>4304</td><td>3</td><td>96.919</td><td>0</td><td>1077</td><td>110393</td><td>0.0</td><td>0.0</td><td>4</td><td>0</td><td>0.0</td><td>0.0</td><td>0.0</td><td>0</td><td>0.0</td><td>0.0</td><td>716</td><td>2654</td><td>2654</td><td>390.55</td><td>0.0</td><td>1</td><td>1860</td><td>1</td><td>1</td><td>0</td><td>0</td><td>5</td><td>0</td><td>150726</td><td>1</td><td>1</td><td>0</td><td>0.0</td><td>0.0</td><td>0.0</td><td>0.0</td><td>7</td><td>0</td><td>0</td><td>0.0</td><td>47783</td><td>0.0</td><td>0.0</td><td>2</td><td>0</td><td>2</td><td>20</td><td>0</td><td>0</td><td>3</td><td>0</td><td>1</td><td>0.0</td><td>0.0</td><td>4</td><td>0</td><td>182.477</td><td>18703.986</td><td>8522.497</td><td>0.0</td><td>391</td><td>0.0</td><td>1</td><td>1922</td><td>29078.579</td><td>11821</td><td>40333</td><td>0</td><td>226.141</td><td>23179.57</td><td>1</td><td>0</td><td>62</td><td>2</td><td>23180</td><td>6</td><td>331.838</td><td>332</td><td>7</td><td>0</td><td>1</td><td>1</td><td>1605.015</td></tr>\n",
       "<tr><td>3</td><td>5</td><td>17</td><td>700.88</td><td>701</td><td>6129.163</td><td>20912.581</td><td>20913</td><td>190</td><td>5668</td><td>0</td><td>6297.038285</td><td>1952</td><td>1</td><td>2</td><td>2622</td><td>1128.303</td><td>0.0</td><td>0.0</td><td>0.0</td><td>77</td><td>1952</td><td>0.0</td><td>1</td><td>1</td><td>0.0</td><td>7</td><td>1128</td><td>0</td><td>0</td><td>0</td><td>0</td><td>1661.212</td><td>5668.025</td><td>0</td><td>0</td><td>400</td><td>2622</td><td>1</td><td>189.962</td><td>1</td><td>0</td><td>0</td><td>0.0</td><td>0.0</td><td>3</td><td>0</td><td>0.0</td><td>0.0</td><td>0.0</td><td>0</td><td>0.0</td><td>0.0</td><td>400</td><td>2352</td><td>1952</td><td>0</td><td>0.0</td><td>1</td><td>0</td><td>5</td><td>0</td><td>0</td><td>0</td><td>5</td><td>0</td><td>78230</td><td>1</td><td>5</td><td>0</td><td>0.0</td><td>517.721</td><td>4527.442</td><td>15447.543</td><td>6</td><td>1</td><td>0</td><td>0.0</td><td>33666</td><td>0.0</td><td>0.0</td><td>2</td><td>0</td><td>4</td><td>10</td><td>0</td><td>0</td><td>1</td><td>0</td><td>5</td><td>0.0</td><td>0.0</td><td>2</td><td>0</td><td>0</td><td>0.0</td><td>9866.955</td><td>0.0</td><td>518</td><td>0.0</td><td>0</td><td>1975</td><td>33665.852</td><td>22928</td><td>78230</td><td>0</td><td>0</td><td>0.0</td><td>0</td><td>1</td><td>65</td><td>0</td><td>15448</td><td>6</td><td>84.99</td><td>85</td><td>6</td><td>0</td><td>0</td><td>5</td><td>743.228</td></tr>\n",
       "<tr><td>4</td><td>2</td><td>5</td><td>54.482</td><td>54</td><td>401.146</td><td>1368.73</td><td>1369</td><td>777</td><td>29747</td><td>1</td><td>12156.72151</td><td>1117</td><td>1</td><td>0</td><td>1240</td><td>348.027</td><td>183.514</td><td>18810.15</td><td>341.685</td><td>68</td><td>1117</td><td>0.0</td><td>1</td><td>1</td><td>0.0</td><td>2</td><td>397</td><td>0</td><td>0</td><td>0</td><td>0</td><td>3205.462</td><td>10937.191</td><td>0</td><td>0</td><td>518</td><td>1631</td><td>1</td><td>435.353</td><td>0</td><td>210</td><td>21525</td><td>0.0</td><td>0.0</td><td>3</td><td>0</td><td>0.0</td><td>0.0</td><td>0.0</td><td>0</td><td>0.0</td><td>0.0</td><td>518</td><td>1635</td><td>1635</td><td>0</td><td>0.0</td><td>1</td><td>391</td><td>5</td><td>0</td><td>0</td><td>0</td><td>0</td><td>0</td><td>52677</td><td>1</td><td>0</td><td>0</td><td>0.0</td><td>189.749</td><td>1397.102</td><td>4766.98</td><td>7</td><td>1</td><td>0</td><td>0.0</td><td>11458</td><td>0.0</td><td>0.0</td><td>1</td><td>0</td><td>4</td><td>20</td><td>0</td><td>0</td><td>0</td><td>0</td><td>5</td><td>0.0</td><td>0.0</td><td>2</td><td>0</td><td>26.486</td><td>2714.85</td><td>2562.49</td><td>0.0</td><td>190</td><td>0.0</td><td>1</td><td>1920</td><td>8743.34</td><td>9130</td><td>31152</td><td>0</td><td>0</td><td>0.0</td><td>0</td><td>0</td><td>68</td><td>-2</td><td>4767</td><td>5</td><td>212.389</td><td>212</td><td>7</td><td>0</td><td>1</td><td>5</td><td>1563.8</td></tr>\n",
       "<tr><td>4</td><td>4</td><td>12</td><td>94.694</td><td>95</td><td>1080.527</td><td>3686.717</td><td>3687</td><td>588</td><td>34072</td><td>1</td><td>3242.224473</td><td>1365</td><td>1</td><td>1</td><td>655</td><td>433.394</td><td>315.052</td><td>32292.802</td><td>542.096</td><td>68</td><td>1170</td><td>0.0</td><td>1</td><td>1</td><td>0.0</td><td>3</td><td>433</td><td>0</td><td>0</td><td>0</td><td>0</td><td>521.531</td><td>1779.443</td><td>0</td><td>0</td><td>1025</td><td>1388</td><td>1</td><td>45.705</td><td>0</td><td>426</td><td>43665</td><td>0.0</td><td>0.0</td><td>3</td><td>0</td><td>0.0</td><td>0.0</td><td>0.0</td><td>0</td><td>0.0</td><td>0.0</td><td>1220</td><td>2390</td><td>2390</td><td>190.904</td><td>0.0</td><td>1</td><td>733</td><td>1</td><td>0</td><td>0</td><td>0</td><td>6</td><td>0</td><td>69166</td><td>1</td><td>0</td><td>0</td><td>0.0</td><td>0.0</td><td>0.0</td><td>0.0</td><td>7</td><td>0</td><td>0</td><td>0.0</td><td>16873</td><td>0.0</td><td>0.0</td><td>1</td><td>0</td><td>3</td><td>10</td><td>0</td><td>0</td><td>2</td><td>0</td><td>1</td><td>0.0</td><td>0.0</td><td>2</td><td>0</td><td>0</td><td>0.0</td><td>4945.323</td><td>0.0</td><td>191</td><td>0.0</td><td>1</td><td>1955</td><td>16873.25</td><td>7474</td><td>25501</td><td>0</td><td>110.948</td><td>11372.198</td><td>1</td><td>0</td><td>62</td><td>2</td><td>11372</td><td>6</td><td>81.206</td><td>81</td><td>7</td><td>0</td><td>1</td><td>5</td><td>926.619</td></tr>\n",
       "<tr><td>2</td><td>10</td><td>26</td><td>0</td><td>0</td><td>0.0</td><td>0.0</td><td>0</td><td>215</td><td>20773</td><td>0</td><td>8812.434127</td><td>244</td><td>1</td><td>0</td><td>373</td><td>194.909</td><td>202.657</td><td>20772.582</td><td>215.427</td><td>70</td><td>0</td><td>0.0</td><td>0</td><td>0</td><td>0.0</td><td>1</td><td>232</td><td>0</td><td>0</td><td>0</td><td>0</td><td>0.0</td><td>0.0</td><td>0</td><td>0</td><td>487</td><td>761</td><td>1</td><td>0</td><td>0</td><td>365</td><td>37413</td><td>0.0</td><td>0.0</td><td>2</td><td>0</td><td>0.0</td><td>0.0</td><td>0.0</td><td>0</td><td>0.0</td><td>0.0</td><td>731</td><td>731</td><td>731</td><td>135.357</td><td>0.0</td><td>1</td><td>388</td><td>1</td><td>0</td><td>0</td><td>0</td><td>1</td><td>0</td><td>46796</td><td>-2</td><td>0</td><td>0</td><td>0.0</td><td>0.0</td><td>0.0</td><td>0.0</td><td>3</td><td>0</td><td>0</td><td>0.0</td><td>8492</td><td>0.0</td><td>0.0</td><td>1</td><td>0</td><td>7</td><td>-2</td><td>0</td><td>0</td><td>2</td><td>0</td><td>1</td><td>0.0</td><td>0.0</td><td>1</td><td>0</td><td>35.01</td><td>3588.613</td><td>1436.995</td><td>0.0</td><td>135</td><td>0.0</td><td>1</td><td>1950</td><td>4903.026</td><td>2750</td><td>9383</td><td>0</td><td>127.333</td><td>13051.805</td><td>1</td><td>0</td><td>70</td><td>2</td><td>13052</td><td>1</td><td>178.091</td><td>178</td><td>1</td><td>0</td><td>1</td><td>-2</td><td>1313.005</td></tr>\n",
       "<tr><td>4</td><td>2</td><td>4</td><td>245.173</td><td>245</td><td>1343.896</td><td>4585.319</td><td>4585</td><td>796</td><td>53682</td><td>1</td><td>15489.57401</td><td>1935</td><td>1</td><td>5</td><td>2154</td><td>1489.74</td><td>523.722</td><td>53681.733</td><td>795.846</td><td>69</td><td>1456</td><td>0.0</td><td>1</td><td>1</td><td>0.0</td><td>2</td><td>1767</td><td>0</td><td>0</td><td>0</td><td>0</td><td>0.0</td><td>0.0</td><td>0</td><td>0</td><td>250</td><td>3666</td><td>1</td><td>0</td><td>0</td><td>995</td><td>101988</td><td>0.0</td><td>0.0</td><td>3</td><td>0</td><td>0.0</td><td>0.0</td><td>0.0</td><td>0</td><td>0.0</td><td>0.0</td><td>728</td><td>2185</td><td>1935</td><td>439.386</td><td>0.0</td><td>1</td><td>1512</td><td>1</td><td>0</td><td>0</td><td>0</td><td>5</td><td>0</td><td>142273</td><td>1</td><td>0</td><td>0</td><td>0.0</td><td>0.0</td><td>0.0</td><td>0.0</td><td>7</td><td>0</td><td>0</td><td>0.0</td><td>46530</td><td>0.0</td><td>0.0</td><td>1</td><td>0</td><td>3</td><td>20</td><td>0</td><td>0</td><td>0</td><td>0</td><td>1</td><td>0.0</td><td>0.0</td><td>2</td><td>0</td><td>182.132</td><td>18668.657</td><td>8165.908</td><td>0.0</td><td>439</td><td>0.0</td><td>1</td><td>1968</td><td>27861.742</td><td>11807</td><td>40285</td><td>0</td><td>289.146</td><td>29637.61</td><td>1</td><td>0</td><td>69</td><td>-2</td><td>29638</td><td>6</td><td>419.087</td><td>419</td><td>7</td><td>0</td><td>1</td><td>1</td><td>2297.196</td></tr>\n",
       "<tr><td>3</td><td>10</td><td>27</td><td>0</td><td>0</td><td>0.0</td><td>0.0</td><td>0</td><td>0</td><td>0</td><td>0</td><td>7951.519208</td><td>0</td><td>0</td><td>4</td><td>2112</td><td>1491.27</td><td>0.0</td><td>0.0</td><td>0.0</td><td>-2</td><td>0</td><td>0.0</td><td>0</td><td>0</td><td>0.0</td><td>2</td><td>1491</td><td>0</td><td>0</td><td>0</td><td>0</td><td>0.0</td><td>0.0</td><td>0</td><td>0</td><td>1387</td><td>2112</td><td>-2</td><td>0</td><td>0</td><td>0</td><td>0</td><td>0.0</td><td>0.0</td><td>3</td><td>0</td><td>0.0</td><td>0.0</td><td>0.0</td><td>0</td><td>0.0</td><td>0.0</td><td>1387</td><td>1387</td><td>1387</td><td>0</td><td>0.0</td><td>1</td><td>0</td><td>-2</td><td>0</td><td>0</td><td>0</td><td>6</td><td>0</td><td>33352</td><td>-2</td><td>1</td><td>0</td><td>0.0</td><td>373.898</td><td>1730.518</td><td>5904.474</td><td>6</td><td>1</td><td>0</td><td>0.0</td><td>23550</td><td>0.0</td><td>0.0</td><td>2</td><td>0</td><td>-2</td><td>10</td><td>0</td><td>0</td><td>6</td><td>0</td><td>5</td><td>0.0</td><td>0.0</td><td>4</td><td>0</td><td>0</td><td>0.0</td><td>6902.065</td><td>0.0</td><td>374</td><td>0.0</td><td>0</td><td>1950</td><td>23549.634</td><td>9775</td><td>33352</td><td>0</td><td>0</td><td>0.0</td><td>0</td><td>0</td><td>-2</td><td>-9</td><td>5904</td><td>5</td><td>246.832</td><td>247</td><td>-2</td><td>0</td><td>0</td><td>5</td><td>1142.417</td></tr>\n",
       "<tr><td>4</td><td>5</td><td>15</td><td>100.871</td><td>101</td><td>889.995</td><td>3036.659</td><td>3037</td><td>144</td><td>4343</td><td>-2</td><td>7118.11634</td><td>809</td><td>1</td><td>0</td><td>718</td><td>316.25</td><td>0.0</td><td>0.0</td><td>0.0</td><td>70</td><td>809</td><td>0.0</td><td>1</td><td>1</td><td>0.0</td><td>3</td><td>316</td><td>0</td><td>0</td><td>0</td><td>0</td><td>1272.836</td><td>4342.913</td><td>0</td><td>0</td><td>0</td><td>718</td><td>1</td><td>144.261</td><td>-2</td><td>0</td><td>0</td><td>0.0</td><td>0.0</td><td>2</td><td>0</td><td>0.0</td><td>0.0</td><td>0.0</td><td>0</td><td>0.0</td><td>0.0</td><td>0</td><td>809</td><td>809</td><td>0</td><td>0.0</td><td>1</td><td>0</td><td>5</td><td>0</td><td>0</td><td>0</td><td>3</td><td>0</td><td>21615</td><td>1</td><td>1</td><td>0</td><td>0.0</td><td>100.015</td><td>882.446</td><td>3010.904</td><td>4</td><td>1</td><td>0</td><td>0.0</td><td>9521</td><td>0.0</td><td>0.0</td><td>2</td><td>0</td><td>3</td><td>-2</td><td>0</td><td>0</td><td>1</td><td>0</td><td>5</td><td>0.0</td><td>0.0</td><td>2</td><td>0</td><td>0</td><td>0.0</td><td>2790.311</td><td>0.0</td><td>100</td><td>0.0</td><td>0</td><td>1980</td><td>9520.532</td><td>6335</td><td>21615</td><td>0</td><td>0</td><td>0.0</td><td>0</td><td>0</td><td>60</td><td>1</td><td>3011</td><td>-2</td><td>56.603</td><td>57</td><td>4</td><td>0</td><td>0</td><td>5</td><td>499.412</td></tr>\n",
       "<tr><td>1</td><td>8</td><td>23</td><td>47.321</td><td>47</td><td>557.754</td><td>1903.088</td><td>1903</td><td>298</td><td>34182</td><td>-2</td><td>14249.90379</td><td>411</td><td>1</td><td>0</td><td>342</td><td>198.509</td><td>333.482</td><td>34182.388</td><td>297.783</td><td>72</td><td>411</td><td>0.0</td><td>1</td><td>1</td><td>0.0</td><td>1</td><td>199</td><td>0</td><td>0</td><td>0</td><td>0</td><td>0.0</td><td>0.0</td><td>0</td><td>0</td><td>0</td><td>684</td><td>1</td><td>0</td><td>-2</td><td>383</td><td>39258</td><td>0.0</td><td>0.0</td><td>-2</td><td>0</td><td>0.0</td><td>0.0</td><td>0.0</td><td>0</td><td>0.0</td><td>0.0</td><td>0</td><td>411</td><td>411</td><td>44.217</td><td>0.0</td><td>1</td><td>342</td><td>1</td><td>0</td><td>0</td><td>0</td><td>0</td><td>0</td><td>53012</td><td>1</td><td>0</td><td>0</td><td>0.0</td><td>0.0</td><td>0.0</td><td>0.0</td><td>1</td><td>0</td><td>0</td><td>0.0</td><td>7983</td><td>0.0</td><td>0.0</td><td>1</td><td>0</td><td>3</td><td>-2</td><td>0</td><td>0</td><td>1</td><td>0</td><td>1</td><td>0.0</td><td>0.0</td><td>1</td><td>0</td><td>0</td><td>0.0</td><td>2339.733</td><td>0.0</td><td>44</td><td>0.0</td><td>1</td><td>1985</td><td>7983.302</td><td>4031</td><td>13754</td><td>0</td><td>49.518</td><td>5075.612</td><td>1</td><td>0</td><td>72</td><td>1</td><td>5076</td><td>-2</td><td>96.17</td><td>96</td><td>1</td><td>0</td><td>1</td><td>-2</td><td>1133.513</td></tr>\n",
       "<tr><td>4</td><td>5</td><td>14</td><td>244.207</td><td>244</td><td>2396.059</td><td>8175.309</td><td>8175</td><td>785</td><td>57708</td><td>1</td><td>37518.82806</td><td>3680</td><td>1</td><td>3</td><td>1327</td><td>732.486</td><td>563.0</td><td>57708.0</td><td>785.0</td><td>70</td><td>3680</td><td>0.0</td><td>1</td><td>1</td><td>0.0</td><td>3</td><td>732</td><td>0</td><td>0</td><td>0</td><td>0</td><td>0.0</td><td>0.0</td><td>0</td><td>0</td><td>1060</td><td>2112</td><td>1</td><td>0</td><td>0</td><td>563</td><td>57708</td><td>0.0</td><td>0.0</td><td>4</td><td>0</td><td>0.0</td><td>0.0</td><td>0.0</td><td>0</td><td>0.0</td><td>0.0</td><td>1060</td><td>4740</td><td>4340</td><td>0</td><td>0.0</td><td>1</td><td>785</td><td>1</td><td>0</td><td>0</td><td>0</td><td>0</td><td>0</td><td>102132</td><td>1</td><td>1</td><td>0</td><td>0.0</td><td>183.218</td><td>1797.665</td><td>6133.599</td><td>9</td><td>1</td><td>0</td><td>0.0</td><td>24521</td><td>0.0</td><td>0.0</td><td>2</td><td>0</td><td>3</td><td>20</td><td>0</td><td>0</td><td>4</td><td>0</td><td>5</td><td>0.0</td><td>0.0</td><td>4</td><td>0</td><td>0</td><td>0.0</td><td>7186.86</td><td>0.0</td><td>183</td><td>0.0</td><td>1</td><td>1993</td><td>24521.433</td><td>13020</td><td>44424</td><td>0</td><td>0</td><td>0.0</td><td>0</td><td>0</td><td>65</td><td>2</td><td>6134</td><td>5</td><td>167.09</td><td>167</td><td>9</td><td>0</td><td>1</td><td>5</td><td>1639.417</td></tr>\n",
       "<tr><td>4</td><td>5</td><td>16</td><td>57.573</td><td>58</td><td>441.678</td><td>1507.101</td><td>1507</td><td>0</td><td>0</td><td>0</td><td>15622.34137</td><td>0</td><td>0</td><td>0</td><td>271</td><td>176.533</td><td>0.0</td><td>0.0</td><td>0.0</td><td>-2</td><td>247</td><td>0.0</td><td>1</td><td>1</td><td>0.0</td><td>3</td><td>177</td><td>0</td><td>0</td><td>0</td><td>0</td><td>0.0</td><td>0.0</td><td>0</td><td>0</td><td>1482</td><td>271</td><td>-2</td><td>0</td><td>0</td><td>0</td><td>0</td><td>0.0</td><td>0.0</td><td>3</td><td>0</td><td>0.0</td><td>0.0</td><td>0.0</td><td>0</td><td>0.0</td><td>0.0</td><td>1235</td><td>1482</td><td>1482</td><td>0</td><td>0.0</td><td>1</td><td>0</td><td>-2</td><td>0</td><td>0</td><td>0</td><td>0</td><td>0</td><td>7094</td><td>2</td><td>0</td><td>0</td><td>0.0</td><td>0.0</td><td>0.0</td><td>0.0</td><td>6</td><td>0</td><td>0</td><td>0.0</td><td>4621</td><td>0.0</td><td>0.0</td><td>1</td><td>0</td><td>-2</td><td>10</td><td>0</td><td>0</td><td>1</td><td>0</td><td>-2</td><td>0.0</td><td>0.0</td><td>1</td><td>0</td><td>0</td><td>0.0</td><td>1354.288</td><td>0.0</td><td>0</td><td>0.0</td><td>0</td><td>1963</td><td>4621.126</td><td>2079</td><td>7094</td><td>0</td><td>0</td><td>0.0</td><td>0</td><td>0</td><td>-2</td><td>1</td><td>0</td><td>5</td><td>36.894</td><td>37</td><td>-2</td><td>0</td><td>0</td><td>-2</td><td>283.034</td></tr>\n",
       "<tr><td>4</td><td>2</td><td>3</td><td>0</td><td>0</td><td>0.0</td><td>0.0</td><td>0</td><td>773</td><td>52946</td><td>1</td><td>7553.728084</td><td>592</td><td>1</td><td>2</td><td>425</td><td>237.423</td><td>516.543</td><td>52946.003</td><td>772.972</td><td>70</td><td>0</td><td>0.0</td><td>0</td><td>0</td><td>0.0</td><td>6</td><td>333</td><td>0</td><td>0</td><td>0</td><td>0</td><td>0.0</td><td>0.0</td><td>0</td><td>0</td><td>0</td><td>1474</td><td>-2</td><td>0</td><td>0</td><td>701</td><td>71853</td><td>0.0</td><td>0.0</td><td>1</td><td>0</td><td>0.0</td><td>0.0</td><td>0.0</td><td>0</td><td>0.0</td><td>0.0</td><td>592</td><td>592</td><td>592</td><td>180.541</td><td>0.0</td><td>1</td><td>1049</td><td>1</td><td>0</td><td>0</td><td>0</td><td>2</td><td>0</td><td>80305</td><td>-2</td><td>0</td><td>0</td><td>0.0</td><td>0.0</td><td>0.0</td><td>0.0</td><td>3</td><td>0</td><td>0</td><td>0.0</td><td>11262</td><td>0.0</td><td>0.0</td><td>1</td><td>0</td><td>2</td><td>-2</td><td>0</td><td>0</td><td>1</td><td>0</td><td>1</td><td>0.0</td><td>0.0</td><td>0</td><td>0</td><td>63.81</td><td>6540.521</td><td>1383.755</td><td>0.0</td><td>181</td><td>0.0</td><td>1</td><td>1940</td><td>4721.637</td><td>2477</td><td>8452</td><td>0</td><td>120.648</td><td>12366.476</td><td>1</td><td>0</td><td>65</td><td>1</td><td>12366</td><td>8</td><td>187.577</td><td>188</td><td>3</td><td>0</td><td>1</td><td>-2</td><td>1093.245</td></tr>\n",
       "<tr><td>1</td><td>8</td><td>22</td><td>0</td><td>0</td><td>0.0</td><td>0.0</td><td>0</td><td>367</td><td>45359</td><td>-2</td><td>5115.108852</td><td>1107</td><td>1</td><td>2</td><td>679</td><td>525.915</td><td>442.521</td><td>45358.681</td><td>366.882</td><td>70</td><td>0</td><td>0.0</td><td>0</td><td>0</td><td>0.0</td><td>3</td><td>579</td><td>0</td><td>0</td><td>0</td><td>0</td><td>0.0</td><td>0.0</td><td>0</td><td>0</td><td>0</td><td>1293</td><td>1</td><td>0</td><td>-2</td><td>741</td><td>75953</td><td>0.0</td><td>0.0</td><td>2</td><td>0</td><td>0.0</td><td>0.0</td><td>0.0</td><td>0</td><td>0.0</td><td>0.0</td><td>1107</td><td>1107</td><td>1107</td><td>194.13</td><td>0.0</td><td>1</td><td>614</td><td>1</td><td>0</td><td>0</td><td>0</td><td>3</td><td>0</td><td>99417</td><td>-2</td><td>0</td><td>0</td><td>0.0</td><td>0.0</td><td>0.0</td><td>0.0</td><td>5</td><td>0</td><td>0</td><td>0.0</td><td>24767</td><td>0.0</td><td>0.0</td><td>2</td><td>0</td><td>3</td><td>10</td><td>0</td><td>0</td><td>0</td><td>0</td><td>1</td><td>0.0</td><td>0.0</td><td>1</td><td>0</td><td>64.326</td><td>6593.449</td><td>5326.531</td><td>0.0</td><td>194</td><td>0.0</td><td>1</td><td>1992</td><td>18173.874</td><td>6877</td><td>23464</td><td>0</td><td>234.153</td><td>24000.869</td><td>1</td><td>0</td><td>65</td><td>-2</td><td>24001</td><td>2</td><td>153.085</td><td>153</td><td>5</td><td>0</td><td>1</td><td>5</td><td>1550.469</td></tr>\n",
       "<tr><td>1</td><td>4</td><td>10</td><td>89.792</td><td>90</td><td>785.259</td><td>2679.32</td><td>2679</td><td>576</td><td>61175</td><td>1</td><td>4132.534817</td><td>3213</td><td>1</td><td>0</td><td>1429</td><td>1133.852</td><td>596.829</td><td>61175.382</td><td>575.756</td><td>64</td><td>3213</td><td>0.0</td><td>1</td><td>1</td><td>0.0</td><td>3</td><td>1134</td><td>0</td><td>0</td><td>0</td><td>0</td><td>0.0</td><td>0.0</td><td>0</td><td>0</td><td>650</td><td>2194</td><td>1</td><td>0</td><td>1</td><td>793</td><td>81283</td><td>0.0</td><td>0.0</td><td>3</td><td>0</td><td>0.0</td><td>0.0</td><td>0.0</td><td>0</td><td>0.0</td><td>0.0</td><td>650</td><td>3863</td><td>3213</td><td>189.244</td><td>0.0</td><td>1</td><td>765</td><td>1</td><td>1</td><td>0</td><td>0</td><td>3</td><td>0</td><td>123923</td><td>1</td><td>2</td><td>0</td><td>0.0</td><td>0.0</td><td>0.0</td><td>0.0</td><td>12</td><td>0</td><td>0</td><td>0.0</td><td>33833</td><td>0.0</td><td>0.0</td><td>3</td><td>0</td><td>3</td><td>20</td><td>0</td><td>0</td><td>0</td><td>0</td><td>1</td><td>0.0</td><td>0.0</td><td>3</td><td>0</td><td>0</td><td>0.0</td><td>9915.846</td><td>0.0</td><td>189</td><td>0.0</td><td>1</td><td>1988</td><td>33833.053</td><td>12497</td><td>42640</td><td>0</td><td>196.171</td><td>20107.618</td><td>1</td><td>0</td><td>64</td><td>-2</td><td>20108</td><td>6</td><td>205.356</td><td>205</td><td>12</td><td>0</td><td>1</td><td>5</td><td>1795.895</td></tr>\n",
       "<tr><td>2</td><td>10</td><td>26</td><td>720.897</td><td>721</td><td>3936.861</td><td>13432.44</td><td>13432</td><td>260</td><td>25070</td><td>0</td><td>7169.306781</td><td>2768</td><td>1</td><td>4</td><td>2234</td><td>1305.659</td><td>244.581</td><td>25069.674</td><td>260.498</td><td>70</td><td>2768</td><td>0.0</td><td>1</td><td>1</td><td>0.0</td><td>4</td><td>1469</td><td>0</td><td>0</td><td>0</td><td>0</td><td>0.0</td><td>0.0</td><td>0</td><td>0</td><td>400</td><td>3085</td><td>1</td><td>0</td><td>0</td><td>799</td><td>81898</td><td>0.0</td><td>0.0</td><td>4</td><td>0</td><td>0.0</td><td>0.0</td><td>0.0</td><td>0</td><td>0.0</td><td>0.0</td><td>400</td><td>3168</td><td>2768</td><td>426.84</td><td>0.0</td><td>1</td><td>851</td><td>1</td><td>1</td><td>0</td><td>0</td><td>2</td><td>0</td><td>123524</td><td>1</td><td>0</td><td>0</td><td>0.0</td><td>0.0</td><td>0.0</td><td>0.0</td><td>6</td><td>0</td><td>0</td><td>0.0</td><td>40079</td><td>0.0</td><td>0.0</td><td>3</td><td>0</td><td>3</td><td>10</td><td>0</td><td>0</td><td>5</td><td>0</td><td>1</td><td>0.0</td><td>0.0</td><td>4</td><td>0</td><td>153.661</td><td>15750.33</td><td>7130.278</td><td>0.0</td><td>427</td><td>0.0</td><td>1</td><td>1958</td><td>24328.273</td><td>12200</td><td>41626</td><td>0</td><td>400.758</td><td>41077.996</td><td>1</td><td>0</td><td>65</td><td>2</td><td>41078</td><td>5</td><td>207.444</td><td>207</td><td>6</td><td>0</td><td>1</td><td>1</td><td>1132.862</td></tr>\n",
       "</table>\n",
       "only showing top 20 rows\n"
      ],
      "text/plain": [
       "+------------------+--------+-----------------+--------+-----------+--------+---------+-----------+-----------+-----------+------+-----------+--------+--------+-----+--------+--------+-----------+---------+--------+--------+--------+--------+-------+------+-----------+--------+-----------+-----+--------+--------+--------+--------+---------+------+-----+--------+--------+--------+--------+--------+--------+------+-----------+--------+--------+-------+-----------+--------+--------+------------+---------+---------+---------+-------+----------+--------+--------+-------+--------+--------+--------+---------+------+-------+-------+--------+--------+--------+---------+--------+--------+--------+---------+--------+-------+------------+---------+-----------+-----------+--------+--------+----+------+-------+--------+-----+----+-------+-------+-----------+--------+-------+--------+-----------+---------+--------+---------+-----------+--------+-----+--------+---------+-----+-----+--------+-----------+---------+-------+--------+--------+------+-----------+--------+--------+-----------+--------+-------+------+--------+--------+\n",
       "|Climate_Region_Pub|DIVISION|REPORTABLE_DOMAIN|DOLELCOL|TOTALDOLCOL|  KWHCOL| BTUELCOL|TOTALBTUCOL|TOTALDOLSPH|TOTALBTUSPH|CELLAR|    NWEIGHT|TOTHSQFT|HEATHOME|NUMPC|DOLLAREL|DOLELOTH|CUFEETNGSPH| BTUNGSPH|DOLNGSPH|TEMPHOME|TOTCSQFT|BTUFOSPH|AIRCOND|ELCOOL|GALLONFOSPH|WALLTYPE|TOTALDOLOTH|BTUFO|GALLONFO|DOLFOSPH|DOLLARFO|  KWHSPH| BTUELSPH|FOWARM|USEFO|TOTUSQFT|TOTALDOL|NUMTHERM|DOLELSPH|CONCRETE|CUFEETNG| BTUNG|GALLONFOOTH|BTUFOOTH|BEDROOMS|FOWATER|GALLONFOWTH|BTUFOWTH|DOLFOWTH|GALLONKEROTH|BTUKEROTH|DOLKEROTH|TOTUCSQFT|TOTSQFT|TOTSQFT_EN|DOLNGWTH|DOLFOOTH|ELOTHER|DOLLARNG|FUELHEAT|NOTMOIST|GALLONKER|BTUKER|NUMCFAN|FOILAUX|TOTALBTU|COOLTYPE|DOOR1SUM|DOLLARKER|DOLLPOTH|DOLELWTH|  KWHWTH| BTUELWTH|TOTROOMS|ELWATER|GALLONKERSPH|BTUKERSPH|TOTALBTUOTH|GALLONLPSPH|BTULPSPH|NCOMBATH|OVEN|EQUIPM|STORIES|GALLONLP|BTULP|LGT1|SOLWARM|FUELH2O|GALLONLPOTH|BTULPOTH|TVCOLOR|SOLARAUX|CUFEETNGOTH| BTUNGOTH|  KWHOTH|DOLKERSPH|TOTALDOLWTH|DOLLPSPH|USENG|YEARMADE| BTUELOTH|  KWH|BTUEL|DOLLARLP|CUFEETNGWTH| BTUNGWTH|UGWATER|SDESCENT|TEMPGONE|LGT1EE|TOTALBTUWTH|ROOFTYPE|DOLELRFG|TOTALDOLRFG|HEATROOM|WDWATER|UGWARM|DRYRFUEL|  KWHRFG|\n",
       "+------------------+--------+-----------------+--------+-----------+--------+---------+-----------+-----------+-----------+------+-----------+--------+--------+-----+--------+--------+-----------+---------+--------+--------+--------+--------+-------+------+-----------+--------+-----------+-----+--------+--------+--------+--------+---------+------+-----+--------+--------+--------+--------+--------+--------+------+-----------+--------+--------+-------+-----------+--------+--------+------------+---------+---------+---------+-------+----------+--------+--------+-------+--------+--------+--------+---------+------+-------+-------+--------+--------+--------+---------+--------+--------+--------+---------+--------+-------+------------+---------+-----------+-----------+--------+--------+----+------+-------+--------+-----+----+-------+-------+-----------+--------+-------+--------+-----------+---------+--------+---------+-----------+--------+-----+--------+---------+-----+-----+--------+-----------+---------+-------+--------+--------+------+-----------+--------+--------+-----------+--------+-------+------+--------+--------+\n",
       "|                 5|      10|               26|  16.793|         17| 181.998|  620.979|        621|        368|      38606|     0| 8599.17201|    2736|       1|    2|     475| 337.315|    376.643|38605.955| 367.654|      70|    2736|     0.0|      1|     1|        0.0|       2|        501|    0|       0|       0|       0|     0.0|      0.0|     0|    0|     400|    1293|       1|       0|       0|     838| 85895|        0.0|     0.0|       3|      0|        0.0|     0.0|     0.0|           0|      0.0|      0.0|      400|   3136|      2736| 286.745|     0.0|      1|     818|       1|       0|        0|     0|      0|      0|  103460|       1|       0|        0|     0.0|     0.0|     0.0|      0.0|       4|      0|           0|      0.0|      29653|        0.0|     0.0|       2|   0|     3|     31|       0|    0|   0|      0|      1|        0.0|     0.0|      2|       0|    167.601|17179.073|3655.782|      0.0|        287|     0.0|    1|    1998|12473.544| 5148|17565|       0|    293.756|30109.973|      1|       0|      70|    -2|      30110|       2| 120.893|        121|       4|      0|     1|       1| 1310.22|\n",
       "|                 1|       1|                1|  48.901|         49| 184.459|  629.389|        629|        582|      40248|    -2|8969.915921|     528|       1|    1|     588| 296.353|    392.662|40248.226| 581.517|      68|     264|     0.0|      1|     1|        0.0|       1|        339|    0|       0|       0|       0|     0.0|      0.0|     0|    0|       0|    1327|       1|       0|      -2|     499| 51148|        0.0|     0.0|       1|      0|        0.0|     0.0|     0.0|           0|      0.0|      0.0|      264|    528|       528| 114.618|     0.0|      1|     739|       1|       0|        0|     0|      1|      0|   58716|       2|       0|        0|     0.0|     0.0|     0.0|      0.0|       2|      0|           0|      0.0|       6781|        0.0|     0.0|       1|   0|     2|     -2|       0|    0|   2|      0|      1|        0.0|     0.0|      1|       0|     28.944| 2966.796|1117.878|      0.0|        115|     0.0|    1|    1965| 3814.291| 2218| 7568|       0|     77.394| 7932.978|      1|       0|      60|     2|       7933|      -2| 242.746|        243|       2|      0|     1|      -2| 915.664|\n",
       "|                 1|       3|                7| 101.048|        101|1063.022| 3627.013|       3627|        425|      40196|     0| 18003.6396|    1623|       1|    2|     952| 512.731|    392.152| 40195.58| 424.514|      55|    1623|     0.0|      1|     1|        0.0|       6|        534|    0|       0|       0|       0|     0.0|      0.0|     0|    0|     400|    1398|       1|       0|       0|     412| 42230|        0.0|     0.0|       3|      0|        0.0|     0.0|     0.0|           0|      0.0|      0.0|      400|   2023|      1623|       0|     0.0|      1|     446|       1|       0|        0|     0|      1|      0|   76401|       1|       2|        0|     0.0| 179.424|1887.531| 6440.221|       7|      1|           0|      0.0|      20438|        0.0|     0.0|       2|   1|     3|     10|       0|    0|   0|      0|      5|        0.0|     0.0|      5|       0|     19.848|  2034.42|5393.913|      0.0|        179|     0.0|    1|    1985|18403.933|10015|34171|       0|          0|      0.0|      0|       0|      55|    -2|       6440|       5| 158.797|        159|       7|      0|     1|       5|1670.534|\n",
       "|                 1|       1|                1|       0|          0|     0.0|      0.0|          0|        616|      36136|     1|5999.605242|    1274|       1|    2|     705| 619.862|    352.549|36136.283| 616.238|      70|       0|     0.0|      0|     0|        0.0|       2|        620|    0|       0|       0|       0|     0.0|      0.0|     0|    0|     637|    1558|       1|       0|       0|     488| 50020|        0.0|     0.0|       2|      0|        0.0|     0.0|     0.0|           0|      0.0|      0.0|     1912|   1912|      1912| 236.762|     0.0|      1|     853|       1|       0|        0|     0|      0|      0|   59809|      -2|       1|        0|     0.0|     0.0|     0.0|      0.0|       5|      0|           0|      0.0|       8607|        0.0|     0.0|       1|   0|     3|     20|       0|    0|   2|      0|      1|        0.0|     0.0|      2|       0|          0|      0.0|2522.532|      0.0|        237|     0.0|    1|    1983| 8606.856| 2869| 9789|       0|    135.451|13883.717|      1|       0|      70|     2|      13884|       5|  85.138|         85|       5|      0|     1|       5| 346.468|\n",
       "|                 1|       4|               10|  45.132|         45|  274.53|  936.677|        937|        685|      74100|     1|4232.486778|    3485|       1|    2|    1050| 853.549|    722.927|74100.451|   685.3|      66|    1538|     0.0|      1|     1|        0.0|       4|        893|    0|       0|       0|       0|     0.0|      0.0|     0|    0|       0|    1906|       1|       0|       0|     903| 92558|        0.0|     0.0|       3|      0|        0.0|     0.0|     0.0|           0|      0.0|      0.0|     1946|   3485|      3485| 131.362|     0.0|      1|     856|       1|       0|        0|     0|      1|      0|  114350|       1|       0|        0|     0.0|     0.0|     0.0|      0.0|       6|      0|           0|      0.0|      21968|        0.0|     0.0|       1|   0|     3|     20|       0|    0|   3|      0|      1|        0.0|     0.0|      1|       0|     41.498| 4253.615|5192.016|      0.0|        131|     0.0|    1|    1920|17714.799| 6387|21792|       0|    138.574|14203.934|      1|       0|      66|     3|      14204|       6| 151.319|        151|       6|      0|     1|       5| 920.454|\n",
       "|                 4|       2|                3|  253.21|        253|1224.714| 4178.697|       4179|       1251|      70109|     1|7862.341967|    2296|       1|    2|    2444|1762.032|    668.382|68509.444|1154.308|      67|    1938|     0.0|      1|     1|        0.0|       3|       2077|    0|       0|       0|       0| 468.774| 1599.447|     0|    0|     358|    4304|       3|  96.919|       0|    1077|110393|        0.0|     0.0|       4|      0|        0.0|     0.0|     0.0|           0|      0.0|      0.0|      716|   2654|      2654|  390.55|     0.0|      1|    1860|       1|       1|        0|     0|      5|      0|  150726|       1|       1|        0|     0.0|     0.0|     0.0|      0.0|       7|      0|           0|      0.0|      47783|        0.0|     0.0|       2|   0|     2|     20|       0|    0|   3|      0|      1|        0.0|     0.0|      4|       0|    182.477|18703.986|8522.497|      0.0|        391|     0.0|    1|    1922|29078.579|11821|40333|       0|    226.141| 23179.57|      1|       0|      62|     2|      23180|       6| 331.838|        332|       7|      0|     1|       1|1605.015|\n",
       "|                 3|       5|               17|  700.88|        701|6129.163|20912.581|      20913|        190|       5668|     0|6297.038285|    1952|       1|    2|    2622|1128.303|        0.0|      0.0|     0.0|      77|    1952|     0.0|      1|     1|        0.0|       7|       1128|    0|       0|       0|       0|1661.212| 5668.025|     0|    0|     400|    2622|       1| 189.962|       1|       0|     0|        0.0|     0.0|       3|      0|        0.0|     0.0|     0.0|           0|      0.0|      0.0|      400|   2352|      1952|       0|     0.0|      1|       0|       5|       0|        0|     0|      5|      0|   78230|       1|       5|        0|     0.0| 517.721|4527.442|15447.543|       6|      1|           0|      0.0|      33666|        0.0|     0.0|       2|   0|     4|     10|       0|    0|   1|      0|      5|        0.0|     0.0|      2|       0|          0|      0.0|9866.955|      0.0|        518|     0.0|    0|    1975|33665.852|22928|78230|       0|          0|      0.0|      0|       1|      65|     0|      15448|       6|   84.99|         85|       6|      0|     0|       5| 743.228|\n",
       "|                 4|       2|                5|  54.482|         54| 401.146|  1368.73|       1369|        777|      29747|     1|12156.72151|    1117|       1|    0|    1240| 348.027|    183.514| 18810.15| 341.685|      68|    1117|     0.0|      1|     1|        0.0|       2|        397|    0|       0|       0|       0|3205.462|10937.191|     0|    0|     518|    1631|       1| 435.353|       0|     210| 21525|        0.0|     0.0|       3|      0|        0.0|     0.0|     0.0|           0|      0.0|      0.0|      518|   1635|      1635|       0|     0.0|      1|     391|       5|       0|        0|     0|      0|      0|   52677|       1|       0|        0|     0.0| 189.749|1397.102|  4766.98|       7|      1|           0|      0.0|      11458|        0.0|     0.0|       1|   0|     4|     20|       0|    0|   0|      0|      5|        0.0|     0.0|      2|       0|     26.486|  2714.85| 2562.49|      0.0|        190|     0.0|    1|    1920|  8743.34| 9130|31152|       0|          0|      0.0|      0|       0|      68|    -2|       4767|       5| 212.389|        212|       7|      0|     1|       5|  1563.8|\n",
       "|                 4|       4|               12|  94.694|         95|1080.527| 3686.717|       3687|        588|      34072|     1|3242.224473|    1365|       1|    1|     655| 433.394|    315.052|32292.802| 542.096|      68|    1170|     0.0|      1|     1|        0.0|       3|        433|    0|       0|       0|       0| 521.531| 1779.443|     0|    0|    1025|    1388|       1|  45.705|       0|     426| 43665|        0.0|     0.0|       3|      0|        0.0|     0.0|     0.0|           0|      0.0|      0.0|     1220|   2390|      2390| 190.904|     0.0|      1|     733|       1|       0|        0|     0|      6|      0|   69166|       1|       0|        0|     0.0|     0.0|     0.0|      0.0|       7|      0|           0|      0.0|      16873|        0.0|     0.0|       1|   0|     3|     10|       0|    0|   2|      0|      1|        0.0|     0.0|      2|       0|          0|      0.0|4945.323|      0.0|        191|     0.0|    1|    1955| 16873.25| 7474|25501|       0|    110.948|11372.198|      1|       0|      62|     2|      11372|       6|  81.206|         81|       7|      0|     1|       5| 926.619|\n",
       "|                 2|      10|               26|       0|          0|     0.0|      0.0|          0|        215|      20773|     0|8812.434127|     244|       1|    0|     373| 194.909|    202.657|20772.582| 215.427|      70|       0|     0.0|      0|     0|        0.0|       1|        232|    0|       0|       0|       0|     0.0|      0.0|     0|    0|     487|     761|       1|       0|       0|     365| 37413|        0.0|     0.0|       2|      0|        0.0|     0.0|     0.0|           0|      0.0|      0.0|      731|    731|       731| 135.357|     0.0|      1|     388|       1|       0|        0|     0|      1|      0|   46796|      -2|       0|        0|     0.0|     0.0|     0.0|      0.0|       3|      0|           0|      0.0|       8492|        0.0|     0.0|       1|   0|     7|     -2|       0|    0|   2|      0|      1|        0.0|     0.0|      1|       0|      35.01| 3588.613|1436.995|      0.0|        135|     0.0|    1|    1950| 4903.026| 2750| 9383|       0|    127.333|13051.805|      1|       0|      70|     2|      13052|       1| 178.091|        178|       1|      0|     1|      -2|1313.005|\n",
       "|                 4|       2|                4| 245.173|        245|1343.896| 4585.319|       4585|        796|      53682|     1|15489.57401|    1935|       1|    5|    2154| 1489.74|    523.722|53681.733| 795.846|      69|    1456|     0.0|      1|     1|        0.0|       2|       1767|    0|       0|       0|       0|     0.0|      0.0|     0|    0|     250|    3666|       1|       0|       0|     995|101988|        0.0|     0.0|       3|      0|        0.0|     0.0|     0.0|           0|      0.0|      0.0|      728|   2185|      1935| 439.386|     0.0|      1|    1512|       1|       0|        0|     0|      5|      0|  142273|       1|       0|        0|     0.0|     0.0|     0.0|      0.0|       7|      0|           0|      0.0|      46530|        0.0|     0.0|       1|   0|     3|     20|       0|    0|   0|      0|      1|        0.0|     0.0|      2|       0|    182.132|18668.657|8165.908|      0.0|        439|     0.0|    1|    1968|27861.742|11807|40285|       0|    289.146| 29637.61|      1|       0|      69|    -2|      29638|       6| 419.087|        419|       7|      0|     1|       1|2297.196|\n",
       "|                 3|      10|               27|       0|          0|     0.0|      0.0|          0|          0|          0|     0|7951.519208|       0|       0|    4|    2112| 1491.27|        0.0|      0.0|     0.0|      -2|       0|     0.0|      0|     0|        0.0|       2|       1491|    0|       0|       0|       0|     0.0|      0.0|     0|    0|    1387|    2112|      -2|       0|       0|       0|     0|        0.0|     0.0|       3|      0|        0.0|     0.0|     0.0|           0|      0.0|      0.0|     1387|   1387|      1387|       0|     0.0|      1|       0|      -2|       0|        0|     0|      6|      0|   33352|      -2|       1|        0|     0.0| 373.898|1730.518| 5904.474|       6|      1|           0|      0.0|      23550|        0.0|     0.0|       2|   0|    -2|     10|       0|    0|   6|      0|      5|        0.0|     0.0|      4|       0|          0|      0.0|6902.065|      0.0|        374|     0.0|    0|    1950|23549.634| 9775|33352|       0|          0|      0.0|      0|       0|      -2|    -9|       5904|       5| 246.832|        247|      -2|      0|     0|       5|1142.417|\n",
       "|                 4|       5|               15| 100.871|        101| 889.995| 3036.659|       3037|        144|       4343|    -2| 7118.11634|     809|       1|    0|     718|  316.25|        0.0|      0.0|     0.0|      70|     809|     0.0|      1|     1|        0.0|       3|        316|    0|       0|       0|       0|1272.836| 4342.913|     0|    0|       0|     718|       1| 144.261|      -2|       0|     0|        0.0|     0.0|       2|      0|        0.0|     0.0|     0.0|           0|      0.0|      0.0|        0|    809|       809|       0|     0.0|      1|       0|       5|       0|        0|     0|      3|      0|   21615|       1|       1|        0|     0.0| 100.015| 882.446| 3010.904|       4|      1|           0|      0.0|       9521|        0.0|     0.0|       2|   0|     3|     -2|       0|    0|   1|      0|      5|        0.0|     0.0|      2|       0|          0|      0.0|2790.311|      0.0|        100|     0.0|    0|    1980| 9520.532| 6335|21615|       0|          0|      0.0|      0|       0|      60|     1|       3011|      -2|  56.603|         57|       4|      0|     0|       5| 499.412|\n",
       "|                 1|       8|               23|  47.321|         47| 557.754| 1903.088|       1903|        298|      34182|    -2|14249.90379|     411|       1|    0|     342| 198.509|    333.482|34182.388| 297.783|      72|     411|     0.0|      1|     1|        0.0|       1|        199|    0|       0|       0|       0|     0.0|      0.0|     0|    0|       0|     684|       1|       0|      -2|     383| 39258|        0.0|     0.0|      -2|      0|        0.0|     0.0|     0.0|           0|      0.0|      0.0|        0|    411|       411|  44.217|     0.0|      1|     342|       1|       0|        0|     0|      0|      0|   53012|       1|       0|        0|     0.0|     0.0|     0.0|      0.0|       1|      0|           0|      0.0|       7983|        0.0|     0.0|       1|   0|     3|     -2|       0|    0|   1|      0|      1|        0.0|     0.0|      1|       0|          0|      0.0|2339.733|      0.0|         44|     0.0|    1|    1985| 7983.302| 4031|13754|       0|     49.518| 5075.612|      1|       0|      72|     1|       5076|      -2|   96.17|         96|       1|      0|     1|      -2|1133.513|\n",
       "|                 4|       5|               14| 244.207|        244|2396.059| 8175.309|       8175|        785|      57708|     1|37518.82806|    3680|       1|    3|    1327| 732.486|      563.0|  57708.0|   785.0|      70|    3680|     0.0|      1|     1|        0.0|       3|        732|    0|       0|       0|       0|     0.0|      0.0|     0|    0|    1060|    2112|       1|       0|       0|     563| 57708|        0.0|     0.0|       4|      0|        0.0|     0.0|     0.0|           0|      0.0|      0.0|     1060|   4740|      4340|       0|     0.0|      1|     785|       1|       0|        0|     0|      0|      0|  102132|       1|       1|        0|     0.0| 183.218|1797.665| 6133.599|       9|      1|           0|      0.0|      24521|        0.0|     0.0|       2|   0|     3|     20|       0|    0|   4|      0|      5|        0.0|     0.0|      4|       0|          0|      0.0| 7186.86|      0.0|        183|     0.0|    1|    1993|24521.433|13020|44424|       0|          0|      0.0|      0|       0|      65|     2|       6134|       5|  167.09|        167|       9|      0|     1|       5|1639.417|\n",
       "|                 4|       5|               16|  57.573|         58| 441.678| 1507.101|       1507|          0|          0|     0|15622.34137|       0|       0|    0|     271| 176.533|        0.0|      0.0|     0.0|      -2|     247|     0.0|      1|     1|        0.0|       3|        177|    0|       0|       0|       0|     0.0|      0.0|     0|    0|    1482|     271|      -2|       0|       0|       0|     0|        0.0|     0.0|       3|      0|        0.0|     0.0|     0.0|           0|      0.0|      0.0|     1235|   1482|      1482|       0|     0.0|      1|       0|      -2|       0|        0|     0|      0|      0|    7094|       2|       0|        0|     0.0|     0.0|     0.0|      0.0|       6|      0|           0|      0.0|       4621|        0.0|     0.0|       1|   0|    -2|     10|       0|    0|   1|      0|     -2|        0.0|     0.0|      1|       0|          0|      0.0|1354.288|      0.0|          0|     0.0|    0|    1963| 4621.126| 2079| 7094|       0|          0|      0.0|      0|       0|      -2|     1|          0|       5|  36.894|         37|      -2|      0|     0|      -2| 283.034|\n",
       "|                 4|       2|                3|       0|          0|     0.0|      0.0|          0|        773|      52946|     1|7553.728084|     592|       1|    2|     425| 237.423|    516.543|52946.003| 772.972|      70|       0|     0.0|      0|     0|        0.0|       6|        333|    0|       0|       0|       0|     0.0|      0.0|     0|    0|       0|    1474|      -2|       0|       0|     701| 71853|        0.0|     0.0|       1|      0|        0.0|     0.0|     0.0|           0|      0.0|      0.0|      592|    592|       592| 180.541|     0.0|      1|    1049|       1|       0|        0|     0|      2|      0|   80305|      -2|       0|        0|     0.0|     0.0|     0.0|      0.0|       3|      0|           0|      0.0|      11262|        0.0|     0.0|       1|   0|     2|     -2|       0|    0|   1|      0|      1|        0.0|     0.0|      0|       0|      63.81| 6540.521|1383.755|      0.0|        181|     0.0|    1|    1940| 4721.637| 2477| 8452|       0|    120.648|12366.476|      1|       0|      65|     1|      12366|       8| 187.577|        188|       3|      0|     1|      -2|1093.245|\n",
       "|                 1|       8|               22|       0|          0|     0.0|      0.0|          0|        367|      45359|    -2|5115.108852|    1107|       1|    2|     679| 525.915|    442.521|45358.681| 366.882|      70|       0|     0.0|      0|     0|        0.0|       3|        579|    0|       0|       0|       0|     0.0|      0.0|     0|    0|       0|    1293|       1|       0|      -2|     741| 75953|        0.0|     0.0|       2|      0|        0.0|     0.0|     0.0|           0|      0.0|      0.0|     1107|   1107|      1107|  194.13|     0.0|      1|     614|       1|       0|        0|     0|      3|      0|   99417|      -2|       0|        0|     0.0|     0.0|     0.0|      0.0|       5|      0|           0|      0.0|      24767|        0.0|     0.0|       2|   0|     3|     10|       0|    0|   0|      0|      1|        0.0|     0.0|      1|       0|     64.326| 6593.449|5326.531|      0.0|        194|     0.0|    1|    1992|18173.874| 6877|23464|       0|    234.153|24000.869|      1|       0|      65|    -2|      24001|       2| 153.085|        153|       5|      0|     1|       5|1550.469|\n",
       "|                 1|       4|               10|  89.792|         90| 785.259|  2679.32|       2679|        576|      61175|     1|4132.534817|    3213|       1|    0|    1429|1133.852|    596.829|61175.382| 575.756|      64|    3213|     0.0|      1|     1|        0.0|       3|       1134|    0|       0|       0|       0|     0.0|      0.0|     0|    0|     650|    2194|       1|       0|       1|     793| 81283|        0.0|     0.0|       3|      0|        0.0|     0.0|     0.0|           0|      0.0|      0.0|      650|   3863|      3213| 189.244|     0.0|      1|     765|       1|       1|        0|     0|      3|      0|  123923|       1|       2|        0|     0.0|     0.0|     0.0|      0.0|      12|      0|           0|      0.0|      33833|        0.0|     0.0|       3|   0|     3|     20|       0|    0|   0|      0|      1|        0.0|     0.0|      3|       0|          0|      0.0|9915.846|      0.0|        189|     0.0|    1|    1988|33833.053|12497|42640|       0|    196.171|20107.618|      1|       0|      64|    -2|      20108|       6| 205.356|        205|      12|      0|     1|       5|1795.895|\n",
       "|                 2|      10|               26| 720.897|        721|3936.861| 13432.44|      13432|        260|      25070|     0|7169.306781|    2768|       1|    4|    2234|1305.659|    244.581|25069.674| 260.498|      70|    2768|     0.0|      1|     1|        0.0|       4|       1469|    0|       0|       0|       0|     0.0|      0.0|     0|    0|     400|    3085|       1|       0|       0|     799| 81898|        0.0|     0.0|       4|      0|        0.0|     0.0|     0.0|           0|      0.0|      0.0|      400|   3168|      2768|  426.84|     0.0|      1|     851|       1|       1|        0|     0|      2|      0|  123524|       1|       0|        0|     0.0|     0.0|     0.0|      0.0|       6|      0|           0|      0.0|      40079|        0.0|     0.0|       3|   0|     3|     10|       0|    0|   5|      0|      1|        0.0|     0.0|      4|       0|    153.661| 15750.33|7130.278|      0.0|        427|     0.0|    1|    1958|24328.273|12200|41626|       0|    400.758|41077.996|      1|       0|      65|     2|      41078|       5| 207.444|        207|       6|      0|     1|       1|1132.862|\n",
       "+------------------+--------+-----------------+--------+-----------+--------+---------+-----------+-----------+-----------+------+-----------+--------+--------+-----+--------+--------+-----------+---------+--------+--------+--------+--------+-------+------+-----------+--------+-----------+-----+--------+--------+--------+--------+---------+------+-----+--------+--------+--------+--------+--------+--------+------+-----------+--------+--------+-------+-----------+--------+--------+------------+---------+---------+---------+-------+----------+--------+--------+-------+--------+--------+--------+---------+------+-------+-------+--------+--------+--------+---------+--------+--------+--------+---------+--------+-------+------------+---------+-----------+-----------+--------+--------+----+------+-------+--------+-----+----+-------+-------+-----------+--------+-------+--------+-----------+---------+--------+---------+-----------+--------+-----+--------+---------+-----+-----+--------+-----------+---------+-------+--------+--------+------+-----------+--------+--------+-----------+--------+-------+------+--------+--------+\n",
       "only showing top 20 rows"
      ]
     },
     "execution_count": 5,
     "metadata": {},
     "output_type": "execute_result"
    }
   ],
   "source": [
    "df = spark.read.csv('DS_2019_public.csv', header=True, inferSchema=True)\n",
    "df"
   ]
  },
  {
   "cell_type": "markdown",
   "metadata": {},
   "source": [
    "Краткое описание файла.\n",
    "\n",
    "Стоит обратить внимание, что некоторые колонки имеют формат строк, если к ним обращаться, то стоит заменить формат."
   ]
  },
  {
   "cell_type": "code",
   "execution_count": 6,
   "metadata": {
    "pycharm": {
     "name": "#%%\n"
    }
   },
   "outputs": [
    {
     "name": "stdout",
     "output_type": "stream",
     "text": [
      "root\n",
      " |-- Climate_Region_Pub: integer (nullable = true)\n",
      " |-- DIVISION: integer (nullable = true)\n",
      " |-- REPORTABLE_DOMAIN: integer (nullable = true)\n",
      " |-- DOLELCOL: string (nullable = true)\n",
      " |-- TOTALDOLCOL: integer (nullable = true)\n",
      " |-- KWHCOL: double (nullable = true)\n",
      " |-- BTUELCOL: double (nullable = true)\n",
      " |-- TOTALBTUCOL: integer (nullable = true)\n",
      " |-- TOTALDOLSPH: integer (nullable = true)\n",
      " |-- TOTALBTUSPH: integer (nullable = true)\n",
      " |-- CELLAR: integer (nullable = true)\n",
      " |-- NWEIGHT: double (nullable = true)\n",
      " |-- TOTHSQFT: integer (nullable = true)\n",
      " |-- HEATHOME: integer (nullable = true)\n",
      " |-- NUMPC: integer (nullable = true)\n",
      " |-- DOLLAREL: integer (nullable = true)\n",
      " |-- DOLELOTH: double (nullable = true)\n",
      " |-- CUFEETNGSPH: double (nullable = true)\n",
      " |-- BTUNGSPH: double (nullable = true)\n",
      " |-- DOLNGSPH: double (nullable = true)\n",
      " |-- TEMPHOME: integer (nullable = true)\n",
      " |-- TOTCSQFT: integer (nullable = true)\n",
      " |-- BTUFOSPH: double (nullable = true)\n",
      " |-- AIRCOND: integer (nullable = true)\n",
      " |-- ELCOOL: integer (nullable = true)\n",
      " |-- GALLONFOSPH: double (nullable = true)\n",
      " |-- WALLTYPE: integer (nullable = true)\n",
      " |-- TOTALDOLOTH: integer (nullable = true)\n",
      " |-- BTUFO: integer (nullable = true)\n",
      " |-- GALLONFO: integer (nullable = true)\n",
      " |-- DOLFOSPH: string (nullable = true)\n",
      " |-- DOLLARFO: integer (nullable = true)\n",
      " |-- KWHSPH: double (nullable = true)\n",
      " |-- BTUELSPH: double (nullable = true)\n",
      " |-- FOWARM: integer (nullable = true)\n",
      " |-- USEFO: integer (nullable = true)\n",
      " |-- TOTUSQFT: integer (nullable = true)\n",
      " |-- TOTALDOL: integer (nullable = true)\n",
      " |-- NUMTHERM: integer (nullable = true)\n",
      " |-- DOLELSPH: string (nullable = true)\n",
      " |-- CONCRETE: integer (nullable = true)\n",
      " |-- CUFEETNG: integer (nullable = true)\n",
      " |-- BTUNG: integer (nullable = true)\n",
      " |-- GALLONFOOTH: double (nullable = true)\n",
      " |-- BTUFOOTH: double (nullable = true)\n",
      " |-- BEDROOMS: integer (nullable = true)\n",
      " |-- FOWATER: integer (nullable = true)\n",
      " |-- GALLONFOWTH: double (nullable = true)\n",
      " |-- BTUFOWTH: double (nullable = true)\n",
      " |-- DOLFOWTH: double (nullable = true)\n",
      " |-- GALLONKEROTH: integer (nullable = true)\n",
      " |-- BTUKEROTH: double (nullable = true)\n",
      " |-- DOLKEROTH: double (nullable = true)\n",
      " |-- TOTUCSQFT: integer (nullable = true)\n",
      " |-- TOTSQFT: integer (nullable = true)\n",
      " |-- TOTSQFT_EN: integer (nullable = true)\n",
      " |-- DOLNGWTH: string (nullable = true)\n",
      " |-- DOLFOOTH: double (nullable = true)\n",
      " |-- ELOTHER: integer (nullable = true)\n",
      " |-- DOLLARNG: integer (nullable = true)\n",
      " |-- FUELHEAT: integer (nullable = true)\n",
      " |-- NOTMOIST: integer (nullable = true)\n",
      " |-- GALLONKER: integer (nullable = true)\n",
      " |-- BTUKER: integer (nullable = true)\n",
      " |-- NUMCFAN: integer (nullable = true)\n",
      " |-- FOILAUX: integer (nullable = true)\n",
      " |-- TOTALBTU: integer (nullable = true)\n",
      " |-- COOLTYPE: integer (nullable = true)\n",
      " |-- DOOR1SUM: integer (nullable = true)\n",
      " |-- DOLLARKER: integer (nullable = true)\n",
      " |-- DOLLPOTH: double (nullable = true)\n",
      " |-- DOLELWTH: double (nullable = true)\n",
      " |-- KWHWTH: double (nullable = true)\n",
      " |-- BTUELWTH: double (nullable = true)\n",
      " |-- TOTROOMS: integer (nullable = true)\n",
      " |-- ELWATER: integer (nullable = true)\n",
      " |-- GALLONKERSPH: integer (nullable = true)\n",
      " |-- BTUKERSPH: double (nullable = true)\n",
      " |-- TOTALBTUOTH: integer (nullable = true)\n",
      " |-- GALLONLPSPH: double (nullable = true)\n",
      " |-- BTULPSPH: double (nullable = true)\n",
      " |-- NCOMBATH: integer (nullable = true)\n",
      " |-- OVEN: integer (nullable = true)\n",
      " |-- EQUIPM: integer (nullable = true)\n",
      " |-- STORIES: integer (nullable = true)\n",
      " |-- GALLONLP: integer (nullable = true)\n",
      " |-- BTULP: integer (nullable = true)\n",
      " |-- LGT1: integer (nullable = true)\n",
      " |-- SOLWARM: integer (nullable = true)\n",
      " |-- FUELH2O: integer (nullable = true)\n",
      " |-- GALLONLPOTH: double (nullable = true)\n",
      " |-- BTULPOTH: double (nullable = true)\n",
      " |-- TVCOLOR: integer (nullable = true)\n",
      " |-- SOLARAUX: integer (nullable = true)\n",
      " |-- CUFEETNGOTH: string (nullable = true)\n",
      " |-- BTUNGOTH: double (nullable = true)\n",
      " |-- KWHOTH: string (nullable = true)\n",
      " |-- DOLKERSPH: double (nullable = true)\n",
      " |-- TOTALDOLWTH: integer (nullable = true)\n",
      " |-- DOLLPSPH: double (nullable = true)\n",
      " |-- USENG: integer (nullable = true)\n",
      " |-- YEARMADE: integer (nullable = true)\n",
      " |-- BTUELOTH: double (nullable = true)\n",
      " |-- KWH: integer (nullable = true)\n",
      " |-- BTUEL: integer (nullable = true)\n",
      " |-- DOLLARLP: integer (nullable = true)\n",
      " |-- CUFEETNGWTH: string (nullable = true)\n",
      " |-- BTUNGWTH: double (nullable = true)\n",
      " |-- UGWATER: integer (nullable = true)\n",
      " |-- SDESCENT: integer (nullable = true)\n",
      " |-- TEMPGONE: integer (nullable = true)\n",
      " |-- LGT1EE: integer (nullable = true)\n",
      " |-- TOTALBTUWTH: integer (nullable = true)\n",
      " |-- ROOFTYPE: integer (nullable = true)\n",
      " |-- DOLELRFG: string (nullable = true)\n",
      " |-- TOTALDOLRFG: integer (nullable = true)\n",
      " |-- HEATROOM: integer (nullable = true)\n",
      " |-- WDWATER: integer (nullable = true)\n",
      " |-- UGWARM: integer (nullable = true)\n",
      " |-- DRYRFUEL: integer (nullable = true)\n",
      " |-- KWHRFG: double (nullable = true)\n",
      "\n"
     ]
    }
   ],
   "source": [
    "df.printSchema()"
   ]
  },
  {
   "cell_type": "code",
   "execution_count": 7,
   "metadata": {
    "pycharm": {
     "name": "#%%\n"
    }
   },
   "outputs": [
    {
     "data": {
      "text/plain": [
       "(10875, 121)"
      ]
     },
     "execution_count": 7,
     "metadata": {},
     "output_type": "execute_result"
    }
   ],
   "source": [
    "(df.count(), len(df.columns))"
   ]
  },
  {
   "cell_type": "code",
   "execution_count": 8,
   "metadata": {
    "pycharm": {
     "name": "#%%\n"
    }
   },
   "outputs": [],
   "source": [
    "from pyspark.sql.functions import isnan, when, count, col, isnull, rand\n",
    "import pyspark.sql.functions as f"
   ]
  },
  {
   "cell_type": "markdown",
   "metadata": {},
   "source": [
    "Пропущенные значения, не обнаружены."
   ]
  },
  {
   "cell_type": "code",
   "execution_count": 20,
   "metadata": {
    "pycharm": {
     "name": "#%%\n"
    }
   },
   "outputs": [
    {
     "name": "stdout",
     "output_type": "stream",
     "text": [
      "-RECORD 0-----------------\n",
      " Climate_Region_Pub | 0   \n",
      " DIVISION           | 0   \n",
      " REPORTABLE_DOMAIN  | 0   \n",
      " DOLELCOL           | 0   \n",
      " TOTALDOLCOL        | 0   \n",
      " KWHCOL             | 0   \n",
      " BTUELCOL           | 0   \n",
      " TOTALBTUCOL        | 0   \n",
      " TOTALDOLSPH        | 0   \n",
      " TOTALBTUSPH        | 0   \n",
      " CELLAR             | 0   \n",
      " NWEIGHT            | 0   \n",
      " TOTHSQFT           | 0   \n",
      " HEATHOME           | 0   \n",
      " NUMPC              | 0   \n",
      " DOLLAREL           | 0   \n",
      " DOLELOTH           | 0   \n",
      " CUFEETNGSPH        | 0   \n",
      " BTUNGSPH           | 0   \n",
      " DOLNGSPH           | 0   \n",
      " TEMPHOME           | 0   \n",
      " TOTCSQFT           | 0   \n",
      " BTUFOSPH           | 0   \n",
      " AIRCOND            | 0   \n",
      " ELCOOL             | 0   \n",
      " GALLONFOSPH        | 0   \n",
      " WALLTYPE           | 0   \n",
      " TOTALDOLOTH        | 0   \n",
      " BTUFO              | 0   \n",
      " GALLONFO           | 0   \n",
      " DOLFOSPH           | 0   \n",
      " DOLLARFO           | 0   \n",
      " KWHSPH             | 0   \n",
      " BTUELSPH           | 0   \n",
      " FOWARM             | 0   \n",
      " USEFO              | 0   \n",
      " TOTUSQFT           | 0   \n",
      " TOTALDOL           | 0   \n",
      " NUMTHERM           | 0   \n",
      " DOLELSPH           | 0   \n",
      " CONCRETE           | 0   \n",
      " CUFEETNG           | 0   \n",
      " BTUNG              | 0   \n",
      " GALLONFOOTH        | 0   \n",
      " BTUFOOTH           | 0   \n",
      " BEDROOMS           | 0   \n",
      " FOWATER            | 0   \n",
      " GALLONFOWTH        | 0   \n",
      " BTUFOWTH           | 0   \n",
      " DOLFOWTH           | 0   \n",
      " GALLONKEROTH       | 0   \n",
      " BTUKEROTH          | 0   \n",
      " DOLKEROTH          | 0   \n",
      " TOTUCSQFT          | 0   \n",
      " TOTSQFT            | 0   \n",
      " TOTSQFT_EN         | 0   \n",
      " DOLNGWTH           | 0   \n",
      " DOLFOOTH           | 0   \n",
      " ELOTHER            | 0   \n",
      " DOLLARNG           | 0   \n",
      " FUELHEAT           | 0   \n",
      " NOTMOIST           | 0   \n",
      " GALLONKER          | 0   \n",
      " BTUKER             | 0   \n",
      " NUMCFAN            | 0   \n",
      " FOILAUX            | 0   \n",
      " TOTALBTU           | 0   \n",
      " COOLTYPE           | 0   \n",
      " DOOR1SUM           | 0   \n",
      " DOLLARKER          | 0   \n",
      " DOLLPOTH           | 0   \n",
      " DOLELWTH           | 0   \n",
      " KWHWTH             | 0   \n",
      " BTUELWTH           | 0   \n",
      " TOTROOMS           | 0   \n",
      " ELWATER            | 0   \n",
      " GALLONKERSPH       | 0   \n",
      " BTUKERSPH          | 0   \n",
      " TOTALBTUOTH        | 0   \n",
      " GALLONLPSPH        | 0   \n",
      " BTULPSPH           | 0   \n",
      " NCOMBATH           | 0   \n",
      " OVEN               | 0   \n",
      " EQUIPM             | 0   \n",
      " STORIES            | 0   \n",
      " GALLONLP           | 0   \n",
      " BTULP              | 0   \n",
      " LGT1               | 0   \n",
      " SOLWARM            | 0   \n",
      " FUELH2O            | 0   \n",
      " GALLONLPOTH        | 0   \n",
      " BTULPOTH           | 0   \n",
      " TVCOLOR            | 0   \n",
      " SOLARAUX           | 0   \n",
      " CUFEETNGOTH        | 0   \n",
      " BTUNGOTH           | 0   \n",
      " KWHOTH             | 0   \n",
      " DOLKERSPH          | 0   \n",
      " TOTALDOLWTH        | 0   \n",
      " DOLLPSPH           | 0   \n",
      " USENG              | 0   \n",
      " YEARMADE           | 0   \n",
      " BTUELOTH           | 0   \n",
      " KWH                | 0   \n",
      " BTUEL              | 0   \n",
      " DOLLARLP           | 0   \n",
      " CUFEETNGWTH        | 0   \n",
      " BTUNGWTH           | 0   \n",
      " UGWATER            | 0   \n",
      " SDESCENT           | 0   \n",
      " TEMPGONE           | 0   \n",
      " LGT1EE             | 0   \n",
      " TOTALBTUWTH        | 0   \n",
      " ROOFTYPE           | 0   \n",
      " DOLELRFG           | 0   \n",
      " TOTALDOLRFG        | 0   \n",
      " HEATROOM           | 0   \n",
      " WDWATER            | 0   \n",
      " UGWARM             | 0   \n",
      " DRYRFUEL           | 0   \n",
      " KWHRFG             | 0   \n",
      "\n"
     ]
    }
   ],
   "source": [
    "null_count = df.select([count(when(isnull(c), c)).alias(c) for c, t in df.dtypes])\n",
    "null_count.show(vertical=True)"
   ]
  },
  {
   "cell_type": "code",
   "execution_count": null,
   "metadata": {
    "pycharm": {
     "name": "#%%\n"
    }
   },
   "outputs": [],
   "source": []
  }
 ],
 "metadata": {
  "kernelspec": {
   "display_name": "Python 3 (ipykernel)",
   "language": "python",
   "name": "python3"
  },
  "language_info": {
   "codemirror_mode": {
    "name": "ipython",
    "version": 3
   },
   "file_extension": ".py",
   "mimetype": "text/x-python",
   "name": "python",
   "nbconvert_exporter": "python",
   "pygments_lexer": "ipython3",
   "version": "3.9.7"
  }
 },
 "nbformat": 4,
 "nbformat_minor": 1
}
